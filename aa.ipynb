{
 "cells": [
  {
   "cell_type": "code",
   "execution_count": 1,
   "metadata": {},
   "outputs": [
    {
     "name": "stderr",
     "output_type": "stream",
     "text": [
      "/home/mskang/.conda/envs/mps/lib/python3.9/site-packages/tqdm/auto.py:22: TqdmWarning: IProgress not found. Please update jupyter and ipywidgets. See https://ipywidgets.readthedocs.io/en/stable/user_install.html\n",
      "  from .autonotebook import tqdm as notebook_tqdm\n"
     ]
    }
   ],
   "source": [
    "import torch\n",
    "import torchvision"
   ]
  },
  {
   "cell_type": "code",
   "execution_count": 4,
   "metadata": {},
   "outputs": [
    {
     "data": {
      "text/plain": [
       "dict_keys(['conv1.weight', 'bn1.weight', 'bn1.bias', 'bn1.running_mean', 'bn1.running_var', 'bn1.num_batches_tracked', 'layer1.0.conv1.weight', 'layer1.0.bn1.weight', 'layer1.0.bn1.bias', 'layer1.0.bn1.running_mean', 'layer1.0.bn1.running_var', 'layer1.0.bn1.num_batches_tracked', 'layer1.0.conv2.weight', 'layer1.0.bn2.weight', 'layer1.0.bn2.bias', 'layer1.0.bn2.running_mean', 'layer1.0.bn2.running_var', 'layer1.0.bn2.num_batches_tracked', 'layer1.1.conv1.weight', 'layer1.1.bn1.weight', 'layer1.1.bn1.bias', 'layer1.1.bn1.running_mean', 'layer1.1.bn1.running_var', 'layer1.1.bn1.num_batches_tracked', 'layer1.1.conv2.weight', 'layer1.1.bn2.weight', 'layer1.1.bn2.bias', 'layer1.1.bn2.running_mean', 'layer1.1.bn2.running_var', 'layer1.1.bn2.num_batches_tracked', 'layer2.0.conv1.weight', 'layer2.0.bn1.weight', 'layer2.0.bn1.bias', 'layer2.0.bn1.running_mean', 'layer2.0.bn1.running_var', 'layer2.0.bn1.num_batches_tracked', 'layer2.0.conv2.weight', 'layer2.0.bn2.weight', 'layer2.0.bn2.bias', 'layer2.0.bn2.running_mean', 'layer2.0.bn2.running_var', 'layer2.0.bn2.num_batches_tracked', 'layer2.0.downsample.0.weight', 'layer2.0.downsample.1.weight', 'layer2.0.downsample.1.bias', 'layer2.0.downsample.1.running_mean', 'layer2.0.downsample.1.running_var', 'layer2.0.downsample.1.num_batches_tracked', 'layer2.1.conv1.weight', 'layer2.1.bn1.weight', 'layer2.1.bn1.bias', 'layer2.1.bn1.running_mean', 'layer2.1.bn1.running_var', 'layer2.1.bn1.num_batches_tracked', 'layer2.1.conv2.weight', 'layer2.1.bn2.weight', 'layer2.1.bn2.bias', 'layer2.1.bn2.running_mean', 'layer2.1.bn2.running_var', 'layer2.1.bn2.num_batches_tracked', 'layer3.0.conv1.weight', 'layer3.0.bn1.weight', 'layer3.0.bn1.bias', 'layer3.0.bn1.running_mean', 'layer3.0.bn1.running_var', 'layer3.0.bn1.num_batches_tracked', 'layer3.0.conv2.weight', 'layer3.0.bn2.weight', 'layer3.0.bn2.bias', 'layer3.0.bn2.running_mean', 'layer3.0.bn2.running_var', 'layer3.0.bn2.num_batches_tracked', 'layer3.0.downsample.0.weight', 'layer3.0.downsample.1.weight', 'layer3.0.downsample.1.bias', 'layer3.0.downsample.1.running_mean', 'layer3.0.downsample.1.running_var', 'layer3.0.downsample.1.num_batches_tracked', 'layer3.1.conv1.weight', 'layer3.1.bn1.weight', 'layer3.1.bn1.bias', 'layer3.1.bn1.running_mean', 'layer3.1.bn1.running_var', 'layer3.1.bn1.num_batches_tracked', 'layer3.1.conv2.weight', 'layer3.1.bn2.weight', 'layer3.1.bn2.bias', 'layer3.1.bn2.running_mean', 'layer3.1.bn2.running_var', 'layer3.1.bn2.num_batches_tracked', 'layer4.0.conv1.weight', 'layer4.0.bn1.weight', 'layer4.0.bn1.bias', 'layer4.0.bn1.running_mean', 'layer4.0.bn1.running_var', 'layer4.0.bn1.num_batches_tracked', 'layer4.0.conv2.weight', 'layer4.0.bn2.weight', 'layer4.0.bn2.bias', 'layer4.0.bn2.running_mean', 'layer4.0.bn2.running_var', 'layer4.0.bn2.num_batches_tracked', 'layer4.0.downsample.0.weight', 'layer4.0.downsample.1.weight', 'layer4.0.downsample.1.bias', 'layer4.0.downsample.1.running_mean', 'layer4.0.downsample.1.running_var', 'layer4.0.downsample.1.num_batches_tracked', 'layer4.1.conv1.weight', 'layer4.1.bn1.weight', 'layer4.1.bn1.bias', 'layer4.1.bn1.running_mean', 'layer4.1.bn1.running_var', 'layer4.1.bn1.num_batches_tracked', 'layer4.1.conv2.weight', 'layer4.1.bn2.weight', 'layer4.1.bn2.bias', 'layer4.1.bn2.running_mean', 'layer4.1.bn2.running_var', 'layer4.1.bn2.num_batches_tracked'])"
      ]
     },
     "execution_count": 4,
     "metadata": {},
     "output_type": "execute_result"
    }
   ],
   "source": [
    "state_dict = torch.load('./result/supcon/cifar10/resnet18/1.pt')['online_encoder_projector']\n",
    "\n",
    "new_state_dict = {}\n",
    "for name in state_dict.keys():\n",
    "    if not name[:2] == 'fc':\n",
    "        new_state_dict[name] = state_dict[name]\n",
    "new_state_dict.keys()"
   ]
  },
  {
   "cell_type": "code",
   "execution_count": 19,
   "metadata": {},
   "outputs": [
    {
     "name": "stdout",
     "output_type": "stream",
     "text": [
      "tensor(0.0442, grad_fn=<SelectBackward0>)\n",
      "tensor(-0.0169, grad_fn=<SelectBackward0>)\n",
      "tensor(0.0663, grad_fn=<SelectBackward0>)\n",
      "tensor(-0.0169, grad_fn=<SelectBackward0>)\n"
     ]
    }
   ],
   "source": [
    "model = torchvision.models.resnet18(weights = None)\n",
    "\n",
    "for i in model.parameters():\n",
    "    print(i[0,0,0,0])\n",
    "    break\n",
    "for name, i in model.named_parameters():\n",
    "    if name[:2] == 'fc':\n",
    "        print(i[0,0])\n",
    "        break\n",
    "model.load_state_dict(new_state_dict, strict = False)\n",
    "\n",
    "for i in model.parameters():\n",
    "    print(i[0,0,0,0])\n",
    "    break\n",
    "for name, i in model.named_parameters():\n",
    "    if name[:2] == 'fc':\n",
    "        print(i[0,0])\n",
    "        break"
   ]
  },
  {
   "cell_type": "code",
   "execution_count": 21,
   "metadata": {},
   "outputs": [
    {
     "name": "stdout",
     "output_type": "stream",
     "text": [
      "False conv1.weight\n",
      "False bn1.weight\n",
      "False bn1.bias\n",
      "False layer1.0.conv1.weight\n",
      "False layer1.0.bn1.weight\n",
      "False layer1.0.bn1.bias\n",
      "False layer1.0.conv2.weight\n",
      "False layer1.0.bn2.weight\n",
      "False layer1.0.bn2.bias\n",
      "False layer1.1.conv1.weight\n",
      "False layer1.1.bn1.weight\n",
      "False layer1.1.bn1.bias\n",
      "False layer1.1.conv2.weight\n",
      "False layer1.1.bn2.weight\n",
      "False layer1.1.bn2.bias\n",
      "False layer2.0.conv1.weight\n",
      "False layer2.0.bn1.weight\n",
      "False layer2.0.bn1.bias\n",
      "False layer2.0.conv2.weight\n",
      "False layer2.0.bn2.weight\n",
      "False layer2.0.bn2.bias\n",
      "False layer2.0.downsample.0.weight\n",
      "False layer2.0.downsample.1.weight\n",
      "False layer2.0.downsample.1.bias\n",
      "False layer2.1.conv1.weight\n",
      "False layer2.1.bn1.weight\n",
      "False layer2.1.bn1.bias\n",
      "False layer2.1.conv2.weight\n",
      "False layer2.1.bn2.weight\n",
      "False layer2.1.bn2.bias\n",
      "False layer3.0.conv1.weight\n",
      "False layer3.0.bn1.weight\n",
      "False layer3.0.bn1.bias\n",
      "False layer3.0.conv2.weight\n",
      "False layer3.0.bn2.weight\n",
      "False layer3.0.bn2.bias\n",
      "False layer3.0.downsample.0.weight\n",
      "False layer3.0.downsample.1.weight\n",
      "False layer3.0.downsample.1.bias\n",
      "False layer3.1.conv1.weight\n",
      "False layer3.1.bn1.weight\n",
      "False layer3.1.bn1.bias\n",
      "False layer3.1.conv2.weight\n",
      "False layer3.1.bn2.weight\n",
      "False layer3.1.bn2.bias\n",
      "False layer4.0.conv1.weight\n",
      "False layer4.0.bn1.weight\n",
      "False layer4.0.bn1.bias\n",
      "False layer4.0.conv2.weight\n",
      "False layer4.0.bn2.weight\n",
      "False layer4.0.bn2.bias\n",
      "False layer4.0.downsample.0.weight\n",
      "False layer4.0.downsample.1.weight\n",
      "False layer4.0.downsample.1.bias\n",
      "False layer4.1.conv1.weight\n",
      "False layer4.1.bn1.weight\n",
      "False layer4.1.bn1.bias\n",
      "False layer4.1.conv2.weight\n",
      "False layer4.1.bn2.weight\n",
      "False layer4.1.bn2.bias\n",
      "True fc.weight\n",
      "True fc.bias\n"
     ]
    }
   ],
   "source": [
    "for name, i in model.named_parameters():\n",
    "    if not name[:2] == 'fc':\n",
    "        i.requires_grad = False\n",
    "for name, i in model.named_parameters():\n",
    "    print(i.requires_grad, name) "
   ]
  },
  {
   "cell_type": "code",
   "execution_count": null,
   "metadata": {},
   "outputs": [],
   "source": []
  }
 ],
 "metadata": {
  "kernelspec": {
   "display_name": "Python 3.9.7 ('mps')",
   "language": "python",
   "name": "python3"
  },
  "language_info": {
   "codemirror_mode": {
    "name": "ipython",
    "version": 3
   },
   "file_extension": ".py",
   "mimetype": "text/x-python",
   "name": "python",
   "nbconvert_exporter": "python",
   "pygments_lexer": "ipython3",
   "version": "3.9.7"
  },
  "orig_nbformat": 4,
  "vscode": {
   "interpreter": {
    "hash": "3b764af6f8c80be1fc14c9fec9d26e5c2b2c33e347534d5b87bcd453ce65e84d"
   }
  }
 },
 "nbformat": 4,
 "nbformat_minor": 2
}
